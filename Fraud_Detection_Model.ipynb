{
  "nbformat": 4,
  "nbformat_minor": 0,
  "metadata": {
    "colab": {
      "name": "Fraud_Detection_Model.ipynb",
      "version": "0.3.2",
      "provenance": [],
      "collapsed_sections": []
    },
    "kernelspec": {
      "name": "python3",
      "display_name": "Python 3"
    }
  },
  "cells": [
    {
      "cell_type": "markdown",
      "metadata": {
        "id": "hpzLzs_VITka",
        "colab_type": "text"
      },
      "source": [
        "**Fraud_Detection_Model - Using Logisitc Regression**\n",
        "\n",
        "Kaggle Creditcard Datase"
      ]
    },
    {
      "cell_type": "code",
      "metadata": {
        "id": "OWdfQ8SDyZ3o",
        "colab_type": "code",
        "outputId": "e1f6bffd-74c7-4293-f2da-78d697fadec2",
        "colab": {
          "base_uri": "https://localhost:8080/",
          "height": 443
        }
      },
      "source": [
        "import numpy as np\n",
        "import sklearn as sk\n",
        "import pandas as pd\n",
        "import matplotlib.pyplot as plt\n",
        "from sklearn.preprocessing import scale\n",
        "import random\n",
        "\n",
        "#https://www.kaggle.com/mlg-ulb/creditcardfraud/version/3#creditcard.csv\n",
        "df = pd.read_csv('creditcard.csv', low_memory=False)\n",
        "df = df.sample(frac=1).reset_index(drop=True)\n",
        "df.head()"
      ],
      "execution_count": 0,
      "outputs": [
        {
          "output_type": "error",
          "ename": "FileNotFoundError",
          "evalue": "ignored",
          "traceback": [
            "\u001b[0;31m---------------------------------------------------------------------------\u001b[0m",
            "\u001b[0;31mFileNotFoundError\u001b[0m                         Traceback (most recent call last)",
            "\u001b[0;32m<ipython-input-1-d0f9fb662a27>\u001b[0m in \u001b[0;36m<module>\u001b[0;34m()\u001b[0m\n\u001b[1;32m      7\u001b[0m \u001b[0;34m\u001b[0m\u001b[0m\n\u001b[1;32m      8\u001b[0m \u001b[0;31m#https://www.kaggle.com/mlg-ulb/creditcardfraud/version/3#creditcard.csv\u001b[0m\u001b[0;34m\u001b[0m\u001b[0;34m\u001b[0m\u001b[0;34m\u001b[0m\u001b[0m\n\u001b[0;32m----> 9\u001b[0;31m \u001b[0mdf\u001b[0m \u001b[0;34m=\u001b[0m \u001b[0mpd\u001b[0m\u001b[0;34m.\u001b[0m\u001b[0mread_csv\u001b[0m\u001b[0;34m(\u001b[0m\u001b[0;34m'creditcard.csv'\u001b[0m\u001b[0;34m,\u001b[0m \u001b[0mlow_memory\u001b[0m\u001b[0;34m=\u001b[0m\u001b[0;32mFalse\u001b[0m\u001b[0;34m)\u001b[0m\u001b[0;34m\u001b[0m\u001b[0;34m\u001b[0m\u001b[0m\n\u001b[0m\u001b[1;32m     10\u001b[0m \u001b[0mdf\u001b[0m \u001b[0;34m=\u001b[0m \u001b[0mdf\u001b[0m\u001b[0;34m.\u001b[0m\u001b[0msample\u001b[0m\u001b[0;34m(\u001b[0m\u001b[0mfrac\u001b[0m\u001b[0;34m=\u001b[0m\u001b[0;36m1\u001b[0m\u001b[0;34m)\u001b[0m\u001b[0;34m.\u001b[0m\u001b[0mreset_index\u001b[0m\u001b[0;34m(\u001b[0m\u001b[0mdrop\u001b[0m\u001b[0;34m=\u001b[0m\u001b[0;32mTrue\u001b[0m\u001b[0;34m)\u001b[0m\u001b[0;34m\u001b[0m\u001b[0;34m\u001b[0m\u001b[0m\n\u001b[1;32m     11\u001b[0m \u001b[0mdf\u001b[0m\u001b[0;34m.\u001b[0m\u001b[0mhead\u001b[0m\u001b[0;34m(\u001b[0m\u001b[0;34m)\u001b[0m\u001b[0;34m\u001b[0m\u001b[0;34m\u001b[0m\u001b[0m\n",
            "\u001b[0;32m/usr/local/lib/python3.6/dist-packages/pandas/io/parsers.py\u001b[0m in \u001b[0;36mparser_f\u001b[0;34m(filepath_or_buffer, sep, delimiter, header, names, index_col, usecols, squeeze, prefix, mangle_dupe_cols, dtype, engine, converters, true_values, false_values, skipinitialspace, skiprows, skipfooter, nrows, na_values, keep_default_na, na_filter, verbose, skip_blank_lines, parse_dates, infer_datetime_format, keep_date_col, date_parser, dayfirst, iterator, chunksize, compression, thousands, decimal, lineterminator, quotechar, quoting, doublequote, escapechar, comment, encoding, dialect, tupleize_cols, error_bad_lines, warn_bad_lines, delim_whitespace, low_memory, memory_map, float_precision)\u001b[0m\n\u001b[1;32m    700\u001b[0m                     skip_blank_lines=skip_blank_lines)\n\u001b[1;32m    701\u001b[0m \u001b[0;34m\u001b[0m\u001b[0m\n\u001b[0;32m--> 702\u001b[0;31m         \u001b[0;32mreturn\u001b[0m \u001b[0m_read\u001b[0m\u001b[0;34m(\u001b[0m\u001b[0mfilepath_or_buffer\u001b[0m\u001b[0;34m,\u001b[0m \u001b[0mkwds\u001b[0m\u001b[0;34m)\u001b[0m\u001b[0;34m\u001b[0m\u001b[0;34m\u001b[0m\u001b[0m\n\u001b[0m\u001b[1;32m    703\u001b[0m \u001b[0;34m\u001b[0m\u001b[0m\n\u001b[1;32m    704\u001b[0m     \u001b[0mparser_f\u001b[0m\u001b[0;34m.\u001b[0m\u001b[0m__name__\u001b[0m \u001b[0;34m=\u001b[0m \u001b[0mname\u001b[0m\u001b[0;34m\u001b[0m\u001b[0;34m\u001b[0m\u001b[0m\n",
            "\u001b[0;32m/usr/local/lib/python3.6/dist-packages/pandas/io/parsers.py\u001b[0m in \u001b[0;36m_read\u001b[0;34m(filepath_or_buffer, kwds)\u001b[0m\n\u001b[1;32m    427\u001b[0m \u001b[0;34m\u001b[0m\u001b[0m\n\u001b[1;32m    428\u001b[0m     \u001b[0;31m# Create the parser.\u001b[0m\u001b[0;34m\u001b[0m\u001b[0;34m\u001b[0m\u001b[0;34m\u001b[0m\u001b[0m\n\u001b[0;32m--> 429\u001b[0;31m     \u001b[0mparser\u001b[0m \u001b[0;34m=\u001b[0m \u001b[0mTextFileReader\u001b[0m\u001b[0;34m(\u001b[0m\u001b[0mfilepath_or_buffer\u001b[0m\u001b[0;34m,\u001b[0m \u001b[0;34m**\u001b[0m\u001b[0mkwds\u001b[0m\u001b[0;34m)\u001b[0m\u001b[0;34m\u001b[0m\u001b[0;34m\u001b[0m\u001b[0m\n\u001b[0m\u001b[1;32m    430\u001b[0m \u001b[0;34m\u001b[0m\u001b[0m\n\u001b[1;32m    431\u001b[0m     \u001b[0;32mif\u001b[0m \u001b[0mchunksize\u001b[0m \u001b[0;32mor\u001b[0m \u001b[0miterator\u001b[0m\u001b[0;34m:\u001b[0m\u001b[0;34m\u001b[0m\u001b[0;34m\u001b[0m\u001b[0m\n",
            "\u001b[0;32m/usr/local/lib/python3.6/dist-packages/pandas/io/parsers.py\u001b[0m in \u001b[0;36m__init__\u001b[0;34m(self, f, engine, **kwds)\u001b[0m\n\u001b[1;32m    893\u001b[0m             \u001b[0mself\u001b[0m\u001b[0;34m.\u001b[0m\u001b[0moptions\u001b[0m\u001b[0;34m[\u001b[0m\u001b[0;34m'has_index_names'\u001b[0m\u001b[0;34m]\u001b[0m \u001b[0;34m=\u001b[0m \u001b[0mkwds\u001b[0m\u001b[0;34m[\u001b[0m\u001b[0;34m'has_index_names'\u001b[0m\u001b[0;34m]\u001b[0m\u001b[0;34m\u001b[0m\u001b[0;34m\u001b[0m\u001b[0m\n\u001b[1;32m    894\u001b[0m \u001b[0;34m\u001b[0m\u001b[0m\n\u001b[0;32m--> 895\u001b[0;31m         \u001b[0mself\u001b[0m\u001b[0;34m.\u001b[0m\u001b[0m_make_engine\u001b[0m\u001b[0;34m(\u001b[0m\u001b[0mself\u001b[0m\u001b[0;34m.\u001b[0m\u001b[0mengine\u001b[0m\u001b[0;34m)\u001b[0m\u001b[0;34m\u001b[0m\u001b[0;34m\u001b[0m\u001b[0m\n\u001b[0m\u001b[1;32m    896\u001b[0m \u001b[0;34m\u001b[0m\u001b[0m\n\u001b[1;32m    897\u001b[0m     \u001b[0;32mdef\u001b[0m \u001b[0mclose\u001b[0m\u001b[0;34m(\u001b[0m\u001b[0mself\u001b[0m\u001b[0;34m)\u001b[0m\u001b[0;34m:\u001b[0m\u001b[0;34m\u001b[0m\u001b[0;34m\u001b[0m\u001b[0m\n",
            "\u001b[0;32m/usr/local/lib/python3.6/dist-packages/pandas/io/parsers.py\u001b[0m in \u001b[0;36m_make_engine\u001b[0;34m(self, engine)\u001b[0m\n\u001b[1;32m   1120\u001b[0m     \u001b[0;32mdef\u001b[0m \u001b[0m_make_engine\u001b[0m\u001b[0;34m(\u001b[0m\u001b[0mself\u001b[0m\u001b[0;34m,\u001b[0m \u001b[0mengine\u001b[0m\u001b[0;34m=\u001b[0m\u001b[0;34m'c'\u001b[0m\u001b[0;34m)\u001b[0m\u001b[0;34m:\u001b[0m\u001b[0;34m\u001b[0m\u001b[0;34m\u001b[0m\u001b[0m\n\u001b[1;32m   1121\u001b[0m         \u001b[0;32mif\u001b[0m \u001b[0mengine\u001b[0m \u001b[0;34m==\u001b[0m \u001b[0;34m'c'\u001b[0m\u001b[0;34m:\u001b[0m\u001b[0;34m\u001b[0m\u001b[0;34m\u001b[0m\u001b[0m\n\u001b[0;32m-> 1122\u001b[0;31m             \u001b[0mself\u001b[0m\u001b[0;34m.\u001b[0m\u001b[0m_engine\u001b[0m \u001b[0;34m=\u001b[0m \u001b[0mCParserWrapper\u001b[0m\u001b[0;34m(\u001b[0m\u001b[0mself\u001b[0m\u001b[0;34m.\u001b[0m\u001b[0mf\u001b[0m\u001b[0;34m,\u001b[0m \u001b[0;34m**\u001b[0m\u001b[0mself\u001b[0m\u001b[0;34m.\u001b[0m\u001b[0moptions\u001b[0m\u001b[0;34m)\u001b[0m\u001b[0;34m\u001b[0m\u001b[0;34m\u001b[0m\u001b[0m\n\u001b[0m\u001b[1;32m   1123\u001b[0m         \u001b[0;32melse\u001b[0m\u001b[0;34m:\u001b[0m\u001b[0;34m\u001b[0m\u001b[0;34m\u001b[0m\u001b[0m\n\u001b[1;32m   1124\u001b[0m             \u001b[0;32mif\u001b[0m \u001b[0mengine\u001b[0m \u001b[0;34m==\u001b[0m \u001b[0;34m'python'\u001b[0m\u001b[0;34m:\u001b[0m\u001b[0;34m\u001b[0m\u001b[0;34m\u001b[0m\u001b[0m\n",
            "\u001b[0;32m/usr/local/lib/python3.6/dist-packages/pandas/io/parsers.py\u001b[0m in \u001b[0;36m__init__\u001b[0;34m(self, src, **kwds)\u001b[0m\n\u001b[1;32m   1851\u001b[0m         \u001b[0mkwds\u001b[0m\u001b[0;34m[\u001b[0m\u001b[0;34m'usecols'\u001b[0m\u001b[0;34m]\u001b[0m \u001b[0;34m=\u001b[0m \u001b[0mself\u001b[0m\u001b[0;34m.\u001b[0m\u001b[0musecols\u001b[0m\u001b[0;34m\u001b[0m\u001b[0;34m\u001b[0m\u001b[0m\n\u001b[1;32m   1852\u001b[0m \u001b[0;34m\u001b[0m\u001b[0m\n\u001b[0;32m-> 1853\u001b[0;31m         \u001b[0mself\u001b[0m\u001b[0;34m.\u001b[0m\u001b[0m_reader\u001b[0m \u001b[0;34m=\u001b[0m \u001b[0mparsers\u001b[0m\u001b[0;34m.\u001b[0m\u001b[0mTextReader\u001b[0m\u001b[0;34m(\u001b[0m\u001b[0msrc\u001b[0m\u001b[0;34m,\u001b[0m \u001b[0;34m**\u001b[0m\u001b[0mkwds\u001b[0m\u001b[0;34m)\u001b[0m\u001b[0;34m\u001b[0m\u001b[0;34m\u001b[0m\u001b[0m\n\u001b[0m\u001b[1;32m   1854\u001b[0m         \u001b[0mself\u001b[0m\u001b[0;34m.\u001b[0m\u001b[0munnamed_cols\u001b[0m \u001b[0;34m=\u001b[0m \u001b[0mself\u001b[0m\u001b[0;34m.\u001b[0m\u001b[0m_reader\u001b[0m\u001b[0;34m.\u001b[0m\u001b[0munnamed_cols\u001b[0m\u001b[0;34m\u001b[0m\u001b[0;34m\u001b[0m\u001b[0m\n\u001b[1;32m   1855\u001b[0m \u001b[0;34m\u001b[0m\u001b[0m\n",
            "\u001b[0;32mpandas/_libs/parsers.pyx\u001b[0m in \u001b[0;36mpandas._libs.parsers.TextReader.__cinit__\u001b[0;34m()\u001b[0m\n",
            "\u001b[0;32mpandas/_libs/parsers.pyx\u001b[0m in \u001b[0;36mpandas._libs.parsers.TextReader._setup_parser_source\u001b[0;34m()\u001b[0m\n",
            "\u001b[0;31mFileNotFoundError\u001b[0m: [Errno 2] File b'creditcard.csv' does not exist: b'creditcard.csv'"
          ]
        }
      ]
    },
    {
      "cell_type": "markdown",
      "metadata": {
        "id": "9nhMBDyO25xL",
        "colab_type": "text"
      },
      "source": [
        "Exploring data"
      ]
    },
    {
      "cell_type": "code",
      "metadata": {
        "id": "YmFbJs3C2dib",
        "colab_type": "code",
        "colab": {}
      },
      "source": [
        "fraud = df.loc[df['Class']==1]\n",
        "non_frauds = df.loc[df['Class']==0]\n",
        "print(len(fraud))\n",
        "print(len(non_frauds))\n"
      ],
      "execution_count": 0,
      "outputs": []
    },
    {
      "cell_type": "code",
      "metadata": {
        "id": "Dhp4XxCR291K",
        "colab_type": "code",
        "colab": {}
      },
      "source": [
        "ax = fraud.plot.scatter(x='Amount', y='Class', color='Orange', label='Fraud')\n",
        "non_frauds.plot.scatter(x='Amount', y='Class', color='Blue', label='Normal', ax= ax)\n",
        "plt.show()\n",
        "\n",
        "#fraud seems to be concentraded btw amount from 0 to 2500"
      ],
      "execution_count": 0,
      "outputs": []
    },
    {
      "cell_type": "markdown",
      "metadata": {
        "id": "YjgegGlSF0Hs",
        "colab_type": "text"
      },
      "source": [
        "![alt text](data:image/jpeg;base64,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)"
      ]
    },
    {
      "cell_type": "markdown",
      "metadata": {
        "id": "UvQ0PctLFth5",
        "colab_type": "text"
      },
      "source": [
        "![alt text](data:image/png;base64,iVBORw0KGgoAAAANSUhEUgAAATMAAACkCAMAAADMkjkjAAAB+FBMVEX///8AAADm5uYMDAyrq6tgYGD39/efn5/5iyTsAAD6xKL4//////36593+/v+MjIz71L3tlEzY1tXqmFjtCBX///jw7+3zg4X///L19fXz///uOD3wWFw/eLnz9flXhsDm/f/r7/XR0tO65/+Ivdzt+P96cI797/DuLjT0kpT/6cTsABDtHCSGsNj//9v+9/eht9fD0ORIe7h9l7q0u8b2kT2SrNL2jjGtg2es0u///+bg/f9ulMb4mEsxcrj88OlYg7ikr8CCocxzkbr3qXGFPwDDxsrWvq3J4vLh5/GZqL71sYNSUlKKfYHM6fC4moWKbGzixqbw2saWm657hJfJx7u/mG+v0tqmv9KkfU2t0vxUWHbJ3epKS1iXdFiQYDfX0a9JV41yoKIyZJWCRRtVcJnaro3PtYGRkYY+OUlKTnXz6L4+P3AAAEAlAACKaVpdnL2eZktuVEvGqpPPoHCsk4KClJlgRk5mi7CZt8OZopkpH19FLUm+1/NrLjZPYpl8TEBVYoZuoLlven2umpZdK0PM9uS0tLQAGzwvNT0kIBuDhafdq4vNrp6cg4bXyL9nLyYzW5YqdaakkGoVOFgOAChTNRS+xLG6jV/a4sxrXG74wcL72dpmIwA7gadncpycbzLMhl9pGxaIdXHhu6TXhk8UITIsACyuFiylAAALy0lEQVR4nO2diV8aVx7An1RRyXALi7aAEK2pjXIojqI4RlkQJx6MSkhCElsrNUm72UZN7LbdJtHWbaKZps0256abjd39N3cOkFsFZh4Mvu8nnzCXMHw/75p3/AAAgUAgEAgEAoFAIBAIBAKBQCAQiNrEKJPJK30PUuN8XV09lA9STs/kHpydOgXlw4WlAZYzMBdKbRv6eVfhcTifLSwiOaPmT1HznelHvAuL5w4SlelD/lzkwjaf+ojGTiqaPNvVJcIdCYg4zgyBi5d6LzNelPUsMeYQdSV2dejg/Ie8vmt9S59wG7rZT6eSJ7ua05x1LwOiP+vdI8vA8FlPYruDvWgFahYXK2/GezSsIUcri4rZ+rwHXE2kpKB69bpazYjsvdF2k3cGbn7RlvjLrpaW91nOfMTusc5cRKD/lImOYXR/m3IxBiJfDnf/pcewGACmwK0hYidUI84Uf11kJVBqFhez9dWM6fbM2qqTO5tIZ+FNsD5ObLDH4jeSX/v9j8+2sDT/id1jnIVXwiuRjsE7dy/QV3vWNy3Y4GrP7GrfbHR2aDA6+PW7v33zojac9X77Xca+6e8XZjt6vze85AqyRHkWX6C32pWRAYDRgav9k/yVjjMff8CRTGfdm+EexYN7UfvS/cj4eg8w3Jq5/ftS361JxYO77ZFPv7UHYKQzo4X9xyGWM++jzH2TbtEFbo6BORu7h9nZ7ApkVD+TGBUDgLADpSt5qeNsenl2Xf2sL9wTHg9vLSy+XP1+zQkM72ae94QnqK2tzvjW3ejsVl/3pujOqI1lthzlEMcZEdjuzHPY+0Xv/baco/GBrANdDuHvqHx+aI8ncoI4zkyNobzHKfVk7rHGxtyDVchXP86zLyqYbVqps97HNSWl68wC/yE5fFCESNOZy+2E/IlG+fxBSSxFZ6Fxcx9f8cJjbTNVqUnPmcXpHuuvaAeW5Jy5rO4pXWW7/CTmLDRi7gsYoXzUTqDQGUk5kztHoWVLdV1joVNScuZyQ8yW8sYacBYaccPKlhzSd8bUliP9MpgNjEY1/yrLxni+rq4x52j1wdSWCzu6wudFkKmz869172VTV5d7rOr4xxPzyk8PHxa+oE4mvLPCMHlzB+bnlYLTymTLSt9EGlVenjkcjsCjR41BZQ4OjorcVPU5UxFKSqNQkH6tr+k4UNDvsJqcEUqNwq/14LhHq9eT5O7u/t7j+9PbtF2Xhd1O8+wz6ODcm8tkT/ajVokzh1JDan2MK//ufpDWsTWkrdUSZZ4t7UaVKqtWVCWQc0Bpf5jm793ZS47UVIMzgvHl8el3GVkym8WSdMQ3YrEK31ySn4epK+38ZsWdOTR+j4fxxepKTzKWATNTW+Y11mrJ/1YYc9yROMe9Yq2C3Wb3ExBeSWxX2Bmh8OH+fVpmy85i3LNl/q+MDR7MYcDY6R5ep+kc1yEY/qYTu/gLf0YxxvynfNku1I0qfjHdTg71VNQZpsA9u7Qst0gKjYwWfrZknZm25zuJ7YW2HePe/K9PY/2qoHoSxP855P1tDNuY7zRt3xrxbkcJ4ZxFplJDZpV0pmny7Ovy5DPLwOhhjVjW2eBQePPW6eczc8/ut4VHvJeDK4YQiNx5FFxdXu8Ib852hB9cu/PDBcGcGa4Np3Yq50zpx3ft+XJf1Gw9d1iXT8LZwtzw4MzcDHV5aYxxNmGwgedDF2+8+CTS0b25MRR/8POMTLi8iV11pXYq5kzj0dO2PO0EtifWfmiXD7a3NcXmTUp9e3Jbtz3lnbbPy9eYrLM2GZ7yPjKtLoSU6ukopZ4yNuaO2gtAhZxhJL6bLy3ZBswTx+2JJXR3h4++SgQq48zh9+zn6b9Ruaxjh2bLDJSB/BMcRKcizgitj85T9kMcICmLSjgjfNo8yvjaEvJQb0lUwBmjLM8ouMvsPn62rCzwnRE+vS5HWcxq7ivQ7K8+oDsj9LnKbONsbVn80/irV6+FuanigO0M82vprByocrqLqC3TaebnKcMGtjPSl60sdmQjtiDNLSfBmQIPZtaYXCO21E6yE+GMaopnKouWmi05ToIzAidt6fsha8nZkuMEOMO02vQeHsv46ER5fdcnwBnpoVOtDK62LGte1OtXzS0fvKrAGjyIzjT4fqowY6cr5u09Oz5dZ1vOVqSxAc+Z0kce5Ey2ERswlvts6TjT/NFR1xAbp8v8lFygOVP59cnRW3l5tWWKriNTGfX1vyTsTHFQmDGNWCZbwhq3/LN0nSmTLTNhsuXxka4zlc/PF2ZOM1Nbwuwkk64z0sMVZjG3udBIr1hI1pmmKSiHny0ZTNtqdfToy4oDijOlh7QAedmN2GoBhjOHXi8DrpGyG7HVAgRnDr+PFi5bYntT1PR3R18nIhCckZ4gW1sKNEBC6O45FW8AG6WDZZJpIpdDKbcgvjMFvi3oAAn1O4i/ST8QaCydguvADkN0Zxr8MdvlI9wbrveAf7MT0A7SGXTEdmbE346VMqRUmOcrv44UcbnJRaVN6SH6U7NeHCUlMiC2M4z0eTzCjvSapifzTE0jCk3dMD3uTAYMw2SdwPAyLXoJNZX/b45CVGeh8bf4LC1sA4O6kht7zvDst47E2ez4JopL4PM703wO3pgE3oZV9gpsdoqNhDJY2rwiEZ1ZnO4Fz65N4Fasw54bIYYIPU84605k2/DWAlhiirtoZAgMRuMdhA1Q6tsLTs2Kd+FUKzCY7sYsAEQulXQL4jlzWd2PPf4CU6yFhnfW2ro0IWdbgeFN8B8+DUWGTC9D716o3w1z6Wz9Ujy6tgxeP2sI2JiTpT2LiuXMNj46sYf7Yc2M4p0F6zfu1ze2A/DV1lxibnd3j2GnfrLbGT8NMF0noOv7gWkeKF1eNjriXGnTIMVxpmIXjtM+aMpAZt40vZsEyU7hNfYR3duQNrN27zpfkWIbJTZURHHGxXMw6vWwlGH0Z2/4AIaJ8mx2Qe0qeLUKqJIbpSGCM3664inSoxT4jQtjtCTiuWF8jYMZxSxHBXeWDLOiadqXwpzFUhDaWTLMihInIVWZ8BHWWYjr8mGelOTwCjP4COlM7jQnni1VJA5nKWpFENCZKzVAomkKCvSm1YhgztilcMm+awrflWLs8eMikDMLly0TFSUBsTFbCYRxlhGUrFWrr6ZoGMIjhDO+EZvsV1T5fTVc/rOU74zPlqkeHxKna7Uxm6BsZ1mxAlW1r6xcZ9zC8fSOWLIpWOvKynMmHxgdy1gKJ/fjta+sLGcuc1asQELvyV5lUouU7oxfOJ4+CscuMa/9VFa6M9uAeyRzzY1DgZO5iwxrkdKcqXIi66o0Ws9+bTdlDyjJWW48B8qP+/OFF6lJSnBmGTBnTidwaPS4PiiJpeSCULwzrssnlS2VCn8TTtInx1jxzrilcLwxFUEp/HiTj9yz5wvIUrsU54wd6Q0ouYCLpNaDe/RknNbliStV22Q7I/wkgyKBJgG/R5Jv9Vqfz+fxJIII6nQyy0kTBnKdUYwzv55Hmwaz+8cfb9+us4EpaZpJXDJba03rsjdsFfp62c5aE8GY2eCc6aE6ZYEJ88o5u8xma2Vc1bIsHvn5nfOFgh0ftzxzWa21Mbn/mBh/KhzY/Xixo5lG7ICuWiJ4QsH4UK5OJqZAXQk8MS//t5S/g06DcNLUDx8ms1Xxzt5btrqfivD9xEBAZ6pUSVS0s6dus1SMCeosDXnmbxUc8ZsLRvuEeaL/kN86qDLgDKseWm9ysQJPUm15PA5zxkU/qo2lcIJS2JllYLT06Ec1TUFnUbP7nKBrbmqHAs5iVugLx6VDXmf8CtUK3I00yONMvIXjGN1J2KU/My3XWUy8heP07IP6mCjvDJVsZ2ysQPHiOfT+L3dRnPTIdKaKuq1i1pbdX4oSaB0yGc5iqQESUTDNX7xQeE2NZEhzZis7VuAROLbbqfkaGDhOc+YSeOF4zZLmTIYascej4r/vJEGQs+JBzooHOSse5Kx4kLPiQc6KBzkrHuSseM4jZ0VjD+yckBnqCAQCgUAgEAgEAoFAIBAIBKIc/g8RDAD6CH002wAAAABJRU5ErkJggg==)"
      ]
    },
    {
      "cell_type": "markdown",
      "metadata": {
        "id": "YoUg5dDrFqm9",
        "colab_type": "text"
      },
      "source": [
        "![alt text](data:image/png;base64,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)"
      ]
    },
    {
      "cell_type": "code",
      "metadata": {
        "id": "9euPXpJbF_C9",
        "colab_type": "code",
        "colab": {}
      },
      "source": [
        "#machine learning time!\n",
        "\n",
        "from sklearn import linear_model\n",
        "from sklearn.model_selection import train_test_split\n",
        "\n"
      ],
      "execution_count": 0,
      "outputs": []
    },
    {
      "cell_type": "code",
      "metadata": {
        "id": "47Vd0CA9GOtH",
        "colab_type": "code",
        "colab": {}
      },
      "source": [
        "\n",
        "x = df.iloc[:, :-1] #bring everything except for last column\n",
        "y = df['Class']\n",
        "\n",
        "#setting size of trainning set\n",
        "X_train, X_test, y_train, y_test = train_test_split(x,y,test_size=0.35)\n",
        "\n",
        "print(y_test)"
      ],
      "execution_count": 0,
      "outputs": []
    },
    {
      "cell_type": "code",
      "metadata": {
        "id": "nRTsr3E0G28I",
        "colab_type": "code",
        "colab": {}
      },
      "source": [
        "logistic = linear_model.LogisticRegression(C=1e5) #hyperparameter, try prevent overfiting\n",
        "logistic.fit(X_train, y_train)\n",
        "print('Score: ', logistic.score(X_test.tail(10000), y_test.tail(10000)))"
      ],
      "execution_count": 0,
      "outputs": []
    },
    {
      "cell_type": "code",
      "metadata": {
        "id": "H_KPBKXYByCp",
        "colab_type": "code",
        "colab": {}
      },
      "source": [
        "y_predicted = np.array(logistic.predict(X_test.tail(10000)))\n",
        "print(y_predicted)"
      ],
      "execution_count": 0,
      "outputs": []
    }
  ]
}